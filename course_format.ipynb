{
 "cells": [
  {
   "cell_type": "markdown",
   "metadata": {
    "tags": [
     "s1",
     "content"
    ]
   },
   "source": [
    "# Exploratory Daya Analysis in Python\n",
    "\n",
    "In any exploratory data analysis process, we study the data to capture insights that can be helpful to understand our data better. \n",
    "\n",
    "The basic and the most important steps of Exploratory data anlysis follows the below process\n",
    "\n",
    "1.\tUnderstanding the data\n",
    "2.\tKnowing about Data distribution and finding statistics of the data\n",
    "4.  EDA for the Women in STEM dataset\n",
    "\n",
    "In our current data set, we are going to use the data from American Community Survey 2010-2012 Public Use Microdata Series. \n",
    "This data is available online at and will be required to be fetched from the source.\n",
    "\n",
    "\n",
    "We will be using Pandas which is Python’s package which provides fast, flexible, and expressive data structures designed to make working with “relational” or “labeled” data both easy and intuitive. \n",
    "\n",
    "Getting starting with Pandas package.\n",
    "\n",
    "The package is imported the below command\n",
    "\n",
    "      import pandas as pd\n",
    "      \n",
    "The data is imported from the url using pd.read_csv(url)and can be saved to the variable.\n",
    "    \n",
    "head() function is used to check the first few lines of the imported data. A specific column is fetched using column names to the stored variable.\n",
    "\n",
    "## Lets understand columns in our data\n",
    "\n",
    "The dataset consists of 75 STEM major studies divided into 5 categories. It also gives the number of men and women in each major along with the median salary and the proportion of women(ShareWomen) in each STEM major.\n",
    "\n",
    "## Exercise\n",
    "\n",
    "* Use head command Python to understand the dataset from url https://raw.githubusercontent.com/fivethirtyeight/data/master/college-majors/women-stem.csv \n",
    "\n",
    "Store the results in a variable sample and print the values of sample"
   ]
  },
  {
   "cell_type": "code",
   "execution_count": 38,
   "metadata": {
    "tags": [
     "s1",
     "ce"
    ]
   },
   "outputs": [
    {
     "name": "stdout",
     "output_type": "stream",
     "text": [
      "   Rank  Major_code                                      Major Major_category  \\\n",
      "0     1        2419                      PETROLEUM ENGINEERING    Engineering   \n",
      "1     2        2416             MINING AND MINERAL ENGINEERING    Engineering   \n",
      "2     3        2415                  METALLURGICAL ENGINEERING    Engineering   \n",
      "3     4        2417  NAVAL ARCHITECTURE AND MARINE ENGINEERING    Engineering   \n",
      "4     5        2418                        NUCLEAR ENGINEERING    Engineering   \n",
      "\n",
      "   Total   Men  Women  ShareWomen  Median  \n",
      "0   2339  2057    282    0.120564  110000  \n",
      "1    756   679     77    0.101852   75000  \n",
      "2    856   725    131    0.153037   73000  \n",
      "3   1258  1123    135    0.107313   70000  \n",
      "4   2573  2200    373    0.144967   65000  \n"
     ]
    }
   ],
   "source": [
    "import pandas as pd\n",
    "\n",
    "url=\"https://raw.githubusercontent.com/fivethirtyeight/data/master/college-majors/women-stem.csv\"\n",
    "women_stem=pd.read_csv(url)\n",
    "sample=0\n",
    "# write your code here to reassign variable sample\n"
   ]
  },
  {
   "cell_type": "code",
   "execution_count": null,
   "metadata": {
    "collapsed": true,
    "tags": [
     "s1",
     "ans"
    ]
   },
   "outputs": [],
   "source": [
    "# Use head() function on women_stem and reassign the results to sample"
   ]
  },
  {
   "cell_type": "code",
   "execution_count": 40,
   "metadata": {
    "tags": [
     "s1",
     "hid"
    ]
   },
   "outputs": [
    {
     "name": "stdout",
     "output_type": "stream",
     "text": [
      "continue\n"
     ]
    }
   ],
   "source": [
    "#this is assertion block which verifies the solution.\n",
    "\n",
    "try:\n",
    "    def verify_answer():\n",
    "\n",
    "        if len(x)== len(women_stem.head()): \n",
    "            return True\n",
    "        else:\n",
    "            return False\n",
    "\n",
    "    ref_assert_var = verify_answer()\n",
    "except Exception as e:\n",
    "    print('Your assertion block throws error: ' + str(e))\n",
    "else:\n",
    "    if ref_assert_var:\n",
    "        print('continue')\n",
    "    else:\n",
    "        print('The answer did not pass the test.')"
   ]
  },
  {
   "cell_type": "code",
   "execution_count": 42,
   "metadata": {
    "tags": [
     "s2",
     "ce"
    ]
   },
   "outputs": [
    {
     "name": "stdout",
     "output_type": "stream",
     "text": [
      "   Rank  Major_code                                      Major Major_category  \\\n",
      "0     1        2419                      PETROLEUM ENGINEERING    Engineering   \n",
      "1     2        2416             MINING AND MINERAL ENGINEERING    Engineering   \n",
      "2     3        2415                  METALLURGICAL ENGINEERING    Engineering   \n",
      "3     4        2417  NAVAL ARCHITECTURE AND MARINE ENGINEERING    Engineering   \n",
      "4     5        2418                        NUCLEAR ENGINEERING    Engineering   \n",
      "\n",
      "   Total   Men  Women  ShareWomen  Median  \n",
      "0   2339  2057    282    0.120564  110000  \n",
      "1    756   679     77    0.101852   75000  \n",
      "2    856   725    131    0.153037   73000  \n",
      "3   1258  1123    135    0.107313   70000  \n",
      "4   2573  2200    373    0.144967   65000  \n"
     ]
    }
   ],
   "source": [
    "#Answer\n",
    "\n",
    "sample= women_stem.head()\n",
    "print(sample)"
   ]
  },
  {
   "cell_type": "markdown",
   "metadata": {
    "tags": [
     "s2",
     "hint"
    ]
   },
   "source": [
    "\n",
    "##  Understanding the data\n",
    "                \n",
    "### Using single columns from the data\n",
    "\n",
    "We can access each data frame series object by using its column name, as with a Python dictionary. In our case we can access each Major category series by its name.\n",
    "\n",
    "Assign the columns to variable numberofcategories\n"
   ]
  },
  {
   "cell_type": "code",
   "execution_count": 50,
   "metadata": {
    "tags": [
     "s2",
     "ans"
    ]
   },
   "outputs": [
    {
     "name": "stdout",
     "output_type": "stream",
     "text": [
      "76\n"
     ]
    }
   ],
   "source": [
    "# write your code here.\n",
    "\n"
   ]
  },
  {
   "cell_type": "code",
   "execution_count": null,
   "metadata": {
    "collapsed": true
   },
   "outputs": [],
   "source": [
    "Use Major_category but be careful of the case of letters as python is a case sensitive language"
   ]
  },
  {
   "cell_type": "code",
   "execution_count": 51,
   "metadata": {
    "tags": [
     "s1",
     "hid"
    ]
   },
   "outputs": [
    {
     "name": "stdout",
     "output_type": "stream",
     "text": [
      "continue\n"
     ]
    }
   ],
   "source": [
    "#this is assertion block which verifies the solution.\n",
    "\n",
    "try:\n",
    "    def verify_answer():\n",
    "       \n",
    "        if len(numberofcategories)==len(women_stem.Major_category): \n",
    "            return True\n",
    "      \n",
    "        else:\n",
    "            return False\n",
    "\n",
    "    ref_assert_var = verify_answer()\n",
    "except Exception as e: \n",
    "    print('Your assertion block throws error: ' + str(e))\n",
    "else:\n",
    "    if ref_assert_var:\n",
    "        print('continue')\n",
    "    else:\n",
    "        print('The answer did not pass the test.')"
   ]
  },
  {
   "cell_type": "code",
   "execution_count": 68,
   "metadata": {},
   "outputs": [
    {
     "name": "stdout",
     "output_type": "stream",
     "text": [
      "76\n"
     ]
    }
   ],
   "source": [
    "#Answer\n",
    "\n",
    "numberofcategories= women_stem.Major_category\n",
    "print(len(numberofcategories))"
   ]
  },
  {
   "cell_type": "markdown",
   "metadata": {
    "tags": [
     "s2",
     "content"
    ]
   },
   "source": [
    "<br/><br/><br/><br/>\n",
    "\n",
    "## Getting multiple columns\n",
    "\n",
    "We can access multiple series passing column names as list.\n",
    "\n",
    "## Exercise\n",
    "\n",
    "* List the details of column Major_category and Women from the data and assign it to variable listofWomen"
   ]
  },
  {
   "cell_type": "code",
   "execution_count": 75,
   "metadata": {
    "tags": [
     "s2",
     "ce"
    ]
   },
   "outputs": [
    {
     "data": {
      "text/plain": [
       "76"
      ]
     },
     "execution_count": 75,
     "metadata": {},
     "output_type": "execute_result"
    }
   ],
   "source": [
    "# your code starts here.."
   ]
  },
  {
   "cell_type": "markdown",
   "metadata": {
    "tags": [
     "s2",
     "hint"
    ]
   },
   "source": [
    "hint, list are accessed using [variable name][['Column1', 'Column2']].Use men and Women columns present in the data "
   ]
  },
  {
   "cell_type": "code",
   "execution_count": 79,
   "metadata": {
    "tags": [
     "s2",
     "hid"
    ]
   },
   "outputs": [
    {
     "name": "stdout",
     "output_type": "stream",
     "text": [
      "continue\n"
     ]
    }
   ],
   "source": [
    "#this is assertion block which verifies the solution.\n",
    "\n",
    "try:\n",
    "    def verify_answer():\n",
    "        \n",
    "        if len(listofWomen['Major_category']) == len(women_stem['Major_category']): \n",
    "           if len(listofWomen['Women']) == len(women_stem['Women']): \n",
    "               return True\n",
    "           else:\n",
    "               return False\n",
    "\n",
    "    ref_assert_var = verify_answer()\n",
    "except Exception as e: \n",
    "    print('Your assertion block throws error: ' + str(e))\n",
    "else:\n",
    "    if ref_assert_var:\n",
    "        print('continue')\n",
    "    else:\n",
    "        print('The answer did not pass the test.')"
   ]
  },
  {
   "cell_type": "code",
   "execution_count": 65,
   "metadata": {},
   "outputs": [
    {
     "name": "stdout",
     "output_type": "stream",
     "text": [
      "             Major_category   Women\n",
      "0               Engineering     282\n",
      "1               Engineering      77\n",
      "2               Engineering     131\n",
      "3               Engineering     135\n",
      "4               Engineering     373\n",
      "5               Engineering   11021\n",
      "6         Physical Sciences     960\n",
      "7               Engineering   10907\n",
      "8               Engineering    2105\n",
      "9               Engineering   16016\n",
      "10              Engineering    8284\n",
      "11              Engineering    1330\n",
      "12              Engineering    6548\n",
      "13              Engineering     795\n",
      "14              Engineering    2863\n",
      "15              Engineering    6515\n",
      "16              Engineering   15469\n",
      "17              Engineering     990\n",
      "18  Computers & Mathematics   28576\n",
      "19              Engineering    3384\n",
      "20              Engineering     973\n",
      "21              Engineering    1735\n",
      "22              Engineering   12072\n",
      "23              Engineering     905\n",
      "24              Engineering     232\n",
      "25              Engineering    1385\n",
      "26                   Health  187621\n",
      "27              Engineering    1154\n",
      "28        Physical Sciences    1588\n",
      "29  Computers & Mathematics    2908\n",
      "..                      ...     ...\n",
      "46              Engineering   20957\n",
      "47   Biology & Life Science    1874\n",
      "48   Biology & Life Science   10874\n",
      "49                   Health   14854\n",
      "50        Physical Sciences   33607\n",
      "51   Biology & Life Science    8849\n",
      "52  Computers & Mathematics    1459\n",
      "53   Biology & Life Science   20156\n",
      "54   Biology & Life Science     703\n",
      "55  Computers & Mathematics    2322\n",
      "56        Physical Sciences    5159\n",
      "57        Physical Sciences    1169\n",
      "58                   Health   11797\n",
      "59   Biology & Life Science   15178\n",
      "60        Physical Sciences    1299\n",
      "61  Computers & Mathematics    6604\n",
      "62        Physical Sciences   35037\n",
      "63   Biology & Life Science   13638\n",
      "64   Biology & Life Science    8719\n",
      "65                   Health   13843\n",
      "66                   Health   16346\n",
      "67                   Health   15632\n",
      "68   Biology & Life Science    5959\n",
      "69                   Health    7219\n",
      "70   Biology & Life Science  168947\n",
      "71   Biology & Life Science    5276\n",
      "72                   Health   35004\n",
      "73                   Health   26025\n",
      "74                   Health   37054\n",
      "75   Biology & Life Science    5359\n",
      "\n",
      "[76 rows x 2 columns]\n"
     ]
    }
   ],
   "source": [
    "listofWomen= women_stem[['Major_category','Women']]\n",
    "print(listofWomen)"
   ]
  },
  {
   "cell_type": "markdown",
   "metadata": {},
   "source": [
    "\n",
    "\n",
    "## Knowing about Data distribution  \n",
    "                \n",
    "### Using describe function on our data set\n",
    "\n",
    "The basic data descriptive statistics method for a pandas.DataFrame is describe(). It is the equivalent to R data.frame function summary().\n",
    "\n",
    "### Exercise\n",
    "            \n",
    "Use describe function to find the stastics of the data and assign it to a variable summary"
   ]
  },
  {
   "cell_type": "code",
   "execution_count": 80,
   "metadata": {},
   "outputs": [
    {
     "name": "stdout",
     "output_type": "stream",
     "text": [
      "           Rank   Major_code        Total          Men      Women  ShareWomen  \\\n",
      "count  5.000000     5.000000     5.000000     5.000000    5.00000    5.000000   \n",
      "mean   3.000000  2417.000000  1556.400000  1356.800000  199.60000    0.125547   \n",
      "std    1.581139     1.581139   846.489988   727.068222  123.25502    0.022647   \n",
      "min    1.000000  2415.000000   756.000000   679.000000   77.00000    0.101852   \n",
      "25%    2.000000  2416.000000   856.000000   725.000000  131.00000    0.107313   \n",
      "50%    3.000000  2417.000000  1258.000000  1123.000000  135.00000    0.120564   \n",
      "75%    4.000000  2418.000000  2339.000000  2057.000000  282.00000    0.144967   \n",
      "max    5.000000  2419.000000  2573.000000  2200.000000  373.00000    0.153037   \n",
      "\n",
      "              Median  \n",
      "count       5.000000  \n",
      "mean    78600.000000  \n",
      "std     17952.715672  \n",
      "min     65000.000000  \n",
      "25%     70000.000000  \n",
      "50%     73000.000000  \n",
      "75%     75000.000000  \n",
      "max    110000.000000  \n"
     ]
    }
   ],
   "source": [
    "#answer, write code which is a solution for above question.\n"
   ]
  },
  {
   "cell_type": "code",
   "execution_count": null,
   "metadata": {
    "collapsed": true
   },
   "outputs": [],
   "source": [
    "hint use describe function to get the statistics "
   ]
  },
  {
   "cell_type": "code",
   "execution_count": 83,
   "metadata": {},
   "outputs": [
    {
     "name": "stdout",
     "output_type": "stream",
     "text": [
      "continue\n"
     ]
    }
   ],
   "source": [
    "#this is assertion block which verifies the solution.\n",
    "\n",
    "try:\n",
    "    def verify_answer():\n",
    "      \n",
    "        if len((summary['Women'])) == len(women_stem.describe()['Women']): \n",
    "            return True\n",
    "        else:\n",
    "            return False\n",
    "     \n",
    "\n",
    "    ref_assert_var = verify_answer()\n",
    "except Exception as e:\n",
    "    print('Your assertion block throws error: ' + str(e))\n",
    "else:\n",
    "    if ref_assert_var:\n",
    "        print('continue')\n",
    "    else:\n",
    "        print('The answer did not pass the test.')"
   ]
  },
  {
   "cell_type": "code",
   "execution_count": null,
   "metadata": {
    "collapsed": true
   },
   "outputs": [],
   "source": [
    "summary=sample.describe()\n",
    "print(summary)"
   ]
  },
  {
   "cell_type": "markdown",
   "metadata": {},
   "source": [
    "\n",
    "\n",
    "# Knowing about Data distribution  \n",
    "                \n",
    "## Getting maximum value\n",
    "\n",
    "There is a plethora of descriptive statistics methods in Pandas, we will be using max to calculate maximum and average to understand the averages\n",
    "\n",
    "### Excercise\n",
    "\n",
    "Find the maximum and store it in the variable max_women"
   ]
  },
  {
   "cell_type": "code",
   "execution_count": null,
   "metadata": {
    "collapsed": true
   },
   "outputs": [],
   "source": [
    "#write your code here"
   ]
  },
  {
   "cell_type": "code",
   "execution_count": null,
   "metadata": {
    "collapsed": true
   },
   "outputs": [],
   "source": [
    "hint, use max () to calculate the maximum for column value women"
   ]
  },
  {
   "cell_type": "code",
   "execution_count": 92,
   "metadata": {},
   "outputs": [
    {
     "name": "stdout",
     "output_type": "stream",
     "text": [
      "continue\n"
     ]
    }
   ],
   "source": [
    "#this is assertion block which verifies the solution.\n",
    "\n",
    "try:\n",
    "    def verify_answer():\n",
    "        if max_women == max(women_stem['Women']): \n",
    "            return True\n",
    "        else:\n",
    "            return False\n",
    "    \n",
    "\n",
    "    ref_assert_var = verify_answer()\n",
    "except Exception as e:\n",
    "    print('Your assertion block throws error: ' + str(e))\n",
    "else:\n",
    "    if ref_assert_var:\n",
    "        print('continue')\n",
    "    else:\n",
    "        print('The answer did not pass the test.')"
   ]
  },
  {
   "cell_type": "code",
   "execution_count": 100,
   "metadata": {},
   "outputs": [
    {
     "name": "stdout",
     "output_type": "stream",
     "text": [
      "187621\n"
     ]
    }
   ],
   "source": [
    "#Answer \n",
    "max_women=max(women_stem['Women'])\n",
    "print(max_women)"
   ]
  },
  {
   "cell_type": "code",
   "execution_count": null,
   "metadata": {
    "collapsed": true
   },
   "outputs": [],
   "source": [
    "A scalar is used to find the rows for a particular value in data frame, in our case we will use loc to find the \n",
    "location of the maximum value\n",
    "\n",
    "* Exercise Find the details of the row that has maximum Women and store it variable max_women_row"
   ]
  },
  {
   "cell_type": "code",
   "execution_count": 112,
   "metadata": {},
   "outputs": [
    {
     "data": {
      "text/html": [
       "<div>\n",
       "<table border=\"1\" class=\"dataframe\">\n",
       "  <thead>\n",
       "    <tr style=\"text-align: right;\">\n",
       "      <th></th>\n",
       "      <th>Rank</th>\n",
       "      <th>Major_code</th>\n",
       "      <th>Major</th>\n",
       "      <th>Major_category</th>\n",
       "      <th>Total</th>\n",
       "      <th>Men</th>\n",
       "      <th>Women</th>\n",
       "      <th>ShareWomen</th>\n",
       "      <th>Median</th>\n",
       "    </tr>\n",
       "  </thead>\n",
       "  <tbody>\n",
       "    <tr>\n",
       "      <th>26</th>\n",
       "      <td>27</td>\n",
       "      <td>6107</td>\n",
       "      <td>NURSING</td>\n",
       "      <td>Health</td>\n",
       "      <td>209394</td>\n",
       "      <td>21773</td>\n",
       "      <td>187621</td>\n",
       "      <td>0.896019</td>\n",
       "      <td>48000</td>\n",
       "    </tr>\n",
       "  </tbody>\n",
       "</table>\n",
       "</div>"
      ],
      "text/plain": [
       "    Rank  Major_code    Major Major_category   Total    Men   Women  \\\n",
       "26    27        6107  NURSING         Health  209394  21773  187621   \n",
       "\n",
       "    ShareWomen  Median  \n",
       "26    0.896019   48000  "
      ]
     },
     "execution_count": 112,
     "metadata": {},
     "output_type": "execute_result"
    }
   ],
   "source": [
    "#write your code here\n",
    "    \n"
   ]
  },
  {
   "cell_type": "code",
   "execution_count": null,
   "metadata": {
    "collapsed": true
   },
   "outputs": [],
   "source": [
    "hint, find which column has the max value calculated as above and store it in max_women_category"
   ]
  },
  {
   "cell_type": "code",
   "execution_count": 130,
   "metadata": {},
   "outputs": [
    {
     "name": "stdout",
     "output_type": "stream",
     "text": [
      "continue\n"
     ]
    }
   ],
   "source": [
    "#this is assertion block which verifies the solution.\n",
    "\n",
    "try:\n",
    "    def verify_answer():\n",
    "        if len(max_women_category) == len(women_stem.loc[women_stem['Women'] == max(women_stem['Women'])]): \n",
    "            return True\n",
    "        else:\n",
    "            return False\n",
    "\n",
    "    ref_assert_var = verify_answer()\n",
    "except Exception as e:\n",
    "    print('Your assertion block throws error: ' + str(e))\n",
    "else:\n",
    "    if ref_assert_var:\n",
    "        print('continue')\n",
    "    else:\n",
    "        print('The answer did not pass the test.')"
   ]
  },
  {
   "cell_type": "code",
   "execution_count": 125,
   "metadata": {},
   "outputs": [
    {
     "name": "stdout",
     "output_type": "stream",
     "text": [
      "    Rank  Major_code    Major Major_category   Total    Men   Women  \\\n",
      "26    27        6107  NURSING         Health  209394  21773  187621   \n",
      "\n",
      "    ShareWomen  Median  \n",
      "26    0.896019   48000  \n"
     ]
    }
   ],
   "source": [
    "max_women_category= women_stem.loc[women_stem['Women'] == max(women_stem['Women'])]\n",
    "print(max_women_category)"
   ]
  }
 ],
 "metadata": {
  "executed_sections": [],
  "kernelspec": {
   "display_name": "Python 3",
   "language": "python",
   "name": "python3"
  },
  "language_info": {
   "codemirror_mode": {
    "name": "ipython",
    "version": 3
   },
   "file_extension": ".py",
   "mimetype": "text/x-python",
   "name": "python",
   "nbconvert_exporter": "python",
   "pygments_lexer": "ipython3",
   "version": "3.5.2"
  }
 },
 "nbformat": 4,
 "nbformat_minor": 2
}